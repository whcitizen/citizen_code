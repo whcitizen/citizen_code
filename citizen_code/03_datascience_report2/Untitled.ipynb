{
 "cells": [
  {
   "cell_type": "code",
   "execution_count": 10,
   "metadata": {
    "collapsed": true
   },
   "outputs": [],
   "source": [
    "from chainer import Chain, Variable, optimizers\n",
    "import chainer.functions as F\n",
    "from sklearn.metrics import accuracy_score, confusion_matrix\n",
    "from sklearn.externals import joblib\n",
    "import numpy as np\n",
    "import pandas as pd\n",
    "\n",
    "# 学習データとテストデータに分ける\n",
    "nsample = 4000\n",
    "\n",
    "X_train = np.array(pd.read_csv(\"X_train.csv\",header=None))\n",
    "y_train = list(pd.read_csv(\"y_train.csv\",header=None).ix[:,0])\n",
    "X_test = np.array(pd.read_csv(\"X_test.csv\",header=None))\n",
    "y_test = []\n",
    "\n",
    "XTrain = X_train[:nsample,:] #use the first 4000 samples for training\n",
    "yTrain = y_train[:nsample]\n",
    "XVal = X_train[nsample:,:] #use the rests for validation\n",
    "yVal = y_train[nsample:]"
   ]
  },
  {
   "cell_type": "code",
   "execution_count": null,
   "metadata": {
    "collapsed": true
   },
   "outputs": [],
   "source": [
    "model = Chain(\n",
    "            l1=F.Linear(576, 200),\n",
    "            l2=F.Linear(200, 100),\n",
    "            l3=F.Linear(100, 10))"
   ]
  }
 ],
 "metadata": {
  "kernelspec": {
   "display_name": "Python 3",
   "language": "python",
   "name": "python3"
  },
  "language_info": {
   "codemirror_mode": {
    "name": "ipython",
    "version": 3
   },
   "file_extension": ".py",
   "mimetype": "text/x-python",
   "name": "python",
   "nbconvert_exporter": "python",
   "pygments_lexer": "ipython3",
   "version": "3.6.0"
  }
 },
 "nbformat": 4,
 "nbformat_minor": 2
}
